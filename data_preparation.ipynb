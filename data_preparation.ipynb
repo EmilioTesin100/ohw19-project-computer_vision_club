{
 "cells": [
  {
   "cell_type": "markdown",
   "metadata": {},
   "source": [
    "# Data preparation\n",
    "\n",
    "\n",
    "## File list\n",
    "The directory structure of the actual annotations is quite odd.\n",
    "\n",
    "```\n",
    "-- Annotation DIR\n",
    "    |\n",
    "    |\n",
    "    |__CAT 1\n",
    "    |   |\n",
    "    |   |_d1\n",
    "    |   |_d2\n",
    "    |   |...\n",
    "    |   |_dN\n",
    "    |\n",
    "    |__CAT 2\n",
    "    |   |\n",
    "    |   |_d1\n",
    "    |   |_d2\n",
    "    |   |...\n",
    "    |   |_dN\n",
    "    |\n",
    "    |__CAT 3\n",
    "    |   |\n",
    "    |   |_d1\n",
    "    |   |_d2\n",
    "    |   |...\n",
    "    |   |_dN\n",
    "```\n",
    "\n",
    "\n",
    "Below some path magics to extract the filenames for both: images and xml annotations."
   ]
  },
  {
   "cell_type": "code",
   "execution_count": null,
   "metadata": {},
   "outputs": [],
   "source": [
    "from pathlib import Path, PosixPath\n",
    "import itertools\n",
    "from utility import xml2df"
   ]
  },
  {
   "cell_type": "markdown",
   "metadata": {},
   "source": [
    "* set the `PATH` to the annotations directory "
   ]
  },
  {
   "cell_type": "code",
   "execution_count": null,
   "metadata": {},
   "outputs": [],
   "source": [
    "annotations = '/home/epinux/annotate2/'"
   ]
  },
  {
   "cell_type": "markdown",
   "metadata": {},
   "source": [
    "* Generate a list with the image files"
   ]
  },
  {
   "cell_type": "code",
   "execution_count": null,
   "metadata": {},
   "outputs": [],
   "source": [
    "jpeg_files = [str(i) for i in itertools.chain.from_iterable(\n",
    "            [list(i.glob('*.jpg')) for i in itertools.chain.from_iterable(\n",
    "                [sorted(i.glob('*')) for i in sorted(Path(annotations).glob('*'))])])]"
   ]
  },
  {
   "cell_type": "code",
   "execution_count": null,
   "metadata": {},
   "outputs": [],
   "source": [
    "len(jpeg_files)"
   ]
  },
  {
   "cell_type": "code",
   "execution_count": null,
   "metadata": {},
   "outputs": [],
   "source": [
    "#jpeg_files"
   ]
  },
  {
   "cell_type": "markdown",
   "metadata": {},
   "source": [
    "* Generate a list with the xml annotations files"
   ]
  },
  {
   "cell_type": "code",
   "execution_count": null,
   "metadata": {},
   "outputs": [],
   "source": [
    "xml_files = [str(i) for i in itertools.chain.from_iterable(\n",
    "            [list(i.glob('*.xml')) for i in itertools.chain.from_iterable(\n",
    "                [sorted(i.glob('*')) for i in sorted(Path(annotations).glob('*'))])])]"
   ]
  },
  {
   "cell_type": "code",
   "execution_count": null,
   "metadata": {},
   "outputs": [],
   "source": [
    "len(xml_files)"
   ]
  },
  {
   "cell_type": "markdown",
   "metadata": {},
   "source": [
    "## Subsampling\n",
    "\n",
    "Reduce the number of sampled images. By applying a `reduce_factor` $R_f$ to the `xml` annotation file list.\n",
    "\n",
    "Starting value:\n",
    "\n",
    "$$\n",
    "R_f=0.4 \\quad \\text{which will reduce the amount of files to 40% of the total}\n",
    "$$"
   ]
  },
  {
   "cell_type": "code",
   "execution_count": null,
   "metadata": {},
   "outputs": [],
   "source": [
    "import numpy as np\n",
    "reduce_factor = 0.4\n",
    "np.random.seed(0)\n",
    "msk = np.random.rand(len(xml_files), ) < reduce_factor\n",
    "sample = list(np.array(xml_files)[msk])"
   ]
  },
  {
   "cell_type": "code",
   "execution_count": null,
   "metadata": {},
   "outputs": [],
   "source": [
    "len(sample)"
   ]
  },
  {
   "cell_type": "code",
   "execution_count": null,
   "metadata": {},
   "outputs": [],
   "source": [
    "sample[:5]"
   ]
  },
  {
   "cell_type": "markdown",
   "metadata": {},
   "source": [
    "## Image collection\n",
    "\n",
    "copy the images related to the annotation that are going to be used and store them in a zip file"
   ]
  },
  {
   "cell_type": "code",
   "execution_count": null,
   "metadata": {},
   "outputs": [],
   "source": [
    "!mkdir -p results/samples"
   ]
  },
  {
   "cell_type": "code",
   "execution_count": null,
   "metadata": {},
   "outputs": [],
   "source": [
    "!mkdir -p results/samples/train"
   ]
  },
  {
   "cell_type": "code",
   "execution_count": null,
   "metadata": {},
   "outputs": [],
   "source": [
    "!mkdir -p results/samples/test"
   ]
  },
  {
   "cell_type": "code",
   "execution_count": null,
   "metadata": {},
   "outputs": [],
   "source": [
    "!mkdir -p results/samples/validation"
   ]
  },
  {
   "cell_type": "code",
   "execution_count": null,
   "metadata": {},
   "outputs": [],
   "source": [
    "from shutil import copyfile\n",
    "\n",
    "#for src in list(records['filename'].values):\n",
    "for src_xml in sample:\n",
    "    src_img = src_xml.replace('.xml', '.jpg')\n",
    "    dst_img = 'results/samples' / Path(src_img.split('/')[-1])\n",
    "    dst_xml = 'results/samples' / Path(src_xml.split('/')[-1])\n",
    "    try:\n",
    "        copyfile(src_img, dst_img)\n",
    "        copyfile(src_xml, dst_xml)\n",
    "    except:\n",
    "        print('skipping: ', src, dst)"
   ]
  },
  {
   "cell_type": "code",
   "execution_count": null,
   "metadata": {},
   "outputs": [],
   "source": [
    "xml_list = !ls results/samples | grep '.xml'\n",
    "jpg_list = !ls results/samples | grep '.jpg'\n",
    "xml_list[:5], jpg_list[:5]\n",
    "len(xml_list), len(jpg_list)"
   ]
  },
  {
   "cell_type": "code",
   "execution_count": null,
   "metadata": {},
   "outputs": [],
   "source": [
    "!mkdir -p results/samples/sd_annotation"
   ]
  },
  {
   "cell_type": "markdown",
   "metadata": {},
   "source": [
    "## Annotation Parsing\n",
    "\n",
    "Parsing each `xml` file and store the resutls as `pandas.Dataframe`\n"
   ]
  },
  {
   "cell_type": "code",
   "execution_count": null,
   "metadata": {},
   "outputs": [],
   "source": [
    "records = xml2df(xml_list)"
   ]
  },
  {
   "cell_type": "code",
   "execution_count": null,
   "metadata": {},
   "outputs": [],
   "source": [
    "records.shape"
   ]
  },
  {
   "cell_type": "markdown",
   "metadata": {},
   "source": [
    "Get an idea of which labels are in all the annotations"
   ]
  },
  {
   "cell_type": "code",
   "execution_count": null,
   "metadata": {},
   "outputs": [],
   "source": [
    "list(records['class'].unique())"
   ]
  },
  {
   "cell_type": "code",
   "execution_count": null,
   "metadata": {},
   "outputs": [],
   "source": [
    "records.head()"
   ]
  },
  {
   "cell_type": "code",
   "execution_count": null,
   "metadata": {},
   "outputs": [],
   "source": [
    "records.describe()"
   ]
  },
  {
   "cell_type": "code",
   "execution_count": null,
   "metadata": {},
   "outputs": [],
   "source": [
    "%matplotlib inline"
   ]
  },
  {
   "cell_type": "markdown",
   "metadata": {},
   "source": [
    "Simple statistic description of the sample"
   ]
  },
  {
   "cell_type": "code",
   "execution_count": null,
   "metadata": {},
   "outputs": [],
   "source": [
    "import matplotlib.pyplot as plt\n",
    "\n",
    "plt.style.use('ggplot')\n",
    "\n",
    "plt.figure(figsize=(20,10))\n",
    "records['class'].value_counts().plot(kind='bar')\n",
    "plt.tight_layout()\n",
    "plt.show()\n",
    "plt.close()"
   ]
  },
  {
   "cell_type": "code",
   "execution_count": null,
   "metadata": {},
   "outputs": [],
   "source": [
    "# import holoviews as hv\n",
    "# hv.extension('bokeh')\n",
    "# bars = hv.Bars(records['class'].value_counts(), hv.Dimension('index'), 'class').options(width=900, height=500, xrotation= 38)\n",
    "# bars"
   ]
  },
  {
   "cell_type": "markdown",
   "metadata": {},
   "source": [
    "Extract only the `sand dollars` annotations"
   ]
  },
  {
   "cell_type": "code",
   "execution_count": null,
   "metadata": {},
   "outputs": [],
   "source": [
    "sand_dollars = records[records['class']==\"sand dollar\"]"
   ]
  },
  {
   "cell_type": "code",
   "execution_count": null,
   "metadata": {},
   "outputs": [],
   "source": [
    "sand_dollars.head()"
   ]
  },
  {
   "cell_type": "markdown",
   "metadata": {},
   "source": [
    "## Train, Test & Validation\n",
    "\n",
    "Split the sampling in training ($70\\%$) and testing ($30\\%$) dataset"
   ]
  },
  {
   "cell_type": "code",
   "execution_count": null,
   "metadata": {},
   "outputs": [],
   "source": [
    "len(sand_dollars['filename'].unique())"
   ]
  },
  {
   "cell_type": "code",
   "execution_count": null,
   "metadata": {},
   "outputs": [],
   "source": [
    "import numpy as np\n",
    "np.random.seed(0)\n",
    "train_mask = np.random.rand(len(sand_dollars['filename'].unique())) < 0.7\n",
    "train = list(sand_dollars['filename'].unique()[train_mask])\n",
    "test = sand_dollars['filename'].unique()[~train_mask]\n",
    "validation_msk = np.random.rand(len(test)) < 0.2\n",
    "validation = list(test[validation_msk])\n",
    "test = list(test[~validation_msk])\n"
   ]
  },
  {
   "cell_type": "code",
   "execution_count": null,
   "metadata": {},
   "outputs": [],
   "source": [
    "len(train), len(test), len(validation)"
   ]
  },
  {
   "cell_type": "code",
   "execution_count": null,
   "metadata": {},
   "outputs": [],
   "source": [
    "#train"
   ]
  },
  {
   "cell_type": "markdown",
   "metadata": {},
   "source": [
    "## Generate new `xml` annotation files \n",
    "\n",
    "this new files will contain only Sand Dollars annotations"
   ]
  },
  {
   "cell_type": "code",
   "execution_count": null,
   "metadata": {},
   "outputs": [],
   "source": [
    "grouped = sand_dollars.groupby('filename')"
   ]
  },
  {
   "cell_type": "code",
   "execution_count": null,
   "metadata": {},
   "outputs": [],
   "source": [
    "sand_dollars['filename'].unique().shape"
   ]
  },
  {
   "cell_type": "code",
   "execution_count": null,
   "metadata": {},
   "outputs": [],
   "source": [
    "from utility import df2xml"
   ]
  },
  {
   "cell_type": "code",
   "execution_count": null,
   "metadata": {},
   "outputs": [],
   "source": [
    "df2xml(grouped, output_dir='results/samples/sd_annotation')"
   ]
  },
  {
   "cell_type": "code",
   "execution_count": null,
   "metadata": {},
   "outputs": [],
   "source": [
    "xml = !ls results/samples/sd_annotation | grep xml\n",
    "len(xml)"
   ]
  },
  {
   "cell_type": "code",
   "execution_count": null,
   "metadata": {},
   "outputs": [],
   "source": [
    "import shutil\n",
    "for i in train:\n",
    "    xmlfile = i.replace('.jpg', '.xml')\n",
    "    try:\n",
    "        shutil.move('results/samples/'+i , 'results/samples/train/'+i)\n",
    "    except:\n",
    "        print('skipping :', i)\n",
    "    try:\n",
    "        shutil.move('results/samples/sd_annotation/'+xmlfile , 'results/samples/train/'+xmlfile)\n",
    "    except:\n",
    "        print('skipping :', xmlfile)"
   ]
  },
  {
   "cell_type": "code",
   "execution_count": null,
   "metadata": {},
   "outputs": [],
   "source": [
    "for i in test:\n",
    "    xmlfile = i.replace('.jpg', '.xml')\n",
    "    try:\n",
    "        shutil.move('results/samples/'+i , 'results/samples/test/'+i)\n",
    "    except:\n",
    "        print('skipping :', i)\n",
    "    try:\n",
    "        shutil.move('results/samples/sd_annotation/'+xmlfile , 'results/samples/test/'+xmlfile)\n",
    "    except:\n",
    "        print('skipping :', xmlfile)"
   ]
  },
  {
   "cell_type": "code",
   "execution_count": null,
   "metadata": {},
   "outputs": [],
   "source": [
    "for i in validation:\n",
    "    xmlfile = i.replace('.jpg', '.xml')\n",
    "    try:\n",
    "        shutil.move('results/samples/'+i , 'results/samples/validation/'+i)\n",
    "    except:\n",
    "        print('skipping :', i)\n",
    "    try:\n",
    "        shutil.move('results/samples/sd_annotation/'+xmlfile , 'results/samples/validation/'+xmlfile)\n",
    "    except:\n",
    "        print('skipping :', xmlfile)\n",
    "        "
   ]
  },
  {
   "cell_type": "code",
   "execution_count": null,
   "metadata": {},
   "outputs": [],
   "source": [
    "!mkdir -p results/sample_extra_noSD"
   ]
  },
  {
   "cell_type": "code",
   "execution_count": null,
   "metadata": {},
   "outputs": [],
   "source": [
    "xml_tomove = !ls results/samples | grep \".xml\"\n",
    "img_tomove = !ls results/samples | grep \".jpg\"\n",
    "\n",
    "for i in xml_tomove:\n",
    "    try:\n",
    "        shutil.move('results/samples/'+i , 'results/sample_extra_noSD/'+i)\n",
    "    except:\n",
    "        print('skipping :', i)\n",
    "        \n",
    "for i in img_tomove:\n",
    "    try:\n",
    "        shutil.move('results/samples/'+i , 'results/sample_extra_noSD/'+i)\n",
    "    except:\n",
    "        print('skipping :', i)"
   ]
  },
  {
   "cell_type": "code",
   "execution_count": null,
   "metadata": {},
   "outputs": [],
   "source": [
    "import os\n",
    "import zipfile\n",
    "\n",
    "def zipdir(path, ziph):\n",
    "    # ziph is zipfile handle\n",
    "    for root, dirs, files in os.walk(path):\n",
    "        for file in files:\n",
    "            ziph.write(os.path.join(root, file))\n",
    "\n",
    "zipf = zipfile.ZipFile('results/samples.zip', 'w', zipfile.ZIP_DEFLATED)\n",
    "\n",
    "zipdir('results/samples/', zipf)\n",
    "zipf.close()"
   ]
  },
  {
   "cell_type": "markdown",
   "metadata": {},
   "source": [
    "## Creatre TF Records"
   ]
  },
  {
   "cell_type": "code",
   "execution_count": null,
   "metadata": {},
   "outputs": [],
   "source": [
    "filter = sand_dollars[\"filename\"].isin(train)"
   ]
  },
  {
   "cell_type": "code",
   "execution_count": null,
   "metadata": {},
   "outputs": [],
   "source": [
    "train_df = sand_dollars[filter]"
   ]
  },
  {
   "cell_type": "code",
   "execution_count": null,
   "metadata": {},
   "outputs": [],
   "source": [
    "# for converting the csv/pandas dataframe into TFRecord format\n",
    "# https://stackoverflow.com/questions/41402332/tensorflow-create-a-tfrecords-file-from-csv\n",
    "\n",
    "import pandas as pd\n",
    "import tensorflow as tf\n",
    "import numpy as np\n",
    "\n",
    "import warnings\n",
    "warnings.filterwarnings('ignore')\n",
    "\n",
    "# The function takes in the all of the features of a single annotation instance as a list, \n",
    "# and then also the label as its own variable\n",
    "# it creates a TFRecord (see below cell for how the format looks, similar to XML)\n",
    "\n",
    "def create_tf_example(features, label):\n",
    "\n",
    "    tf_example = tf.train.Example(features=tf.train.Features(feature={\n",
    "        'filename': tf.train.Feature(bytes_list=tf.train.BytesList(value=[features[0].encode('utf-8')])),\n",
    "        'width':tf.train.Feature(int64_list=tf.train.Int64List(value=[int(features[1])])),\n",
    "        'height':tf.train.Feature(int64_list=tf.train.Int64List(value=[int(features[2])])),\n",
    "        'class':tf.train.Feature(bytes_list=tf.train.BytesList(value=[label.encode('utf-8')])),\n",
    "        'xmin':tf.train.Feature(int64_list=tf.train.Int64List(value=[int(features[3])])),\n",
    "        'ymin':tf.train.Feature(int64_list=tf.train.Int64List(value=[int(features[4])])),\n",
    "        'xmax':tf.train.Feature(int64_list=tf.train.Int64List(value=[int(features[5])])),\n",
    "        'ymax':tf.train.Feature(int64_list=tf.train.Int64List(value=[int(features[6])])),\n",
    "    }))\n",
    "    return tf_example\n"
   ]
  },
  {
   "cell_type": "code",
   "execution_count": null,
   "metadata": {},
   "outputs": [],
   "source": [
    "# Loops through all of the rows in the pandas dataframe and individually converts each annotation instance into the TFRecord format\n",
    "# note that this loop breaks after a single annotation just to provide an example. Remove the break when actually using!\n",
    "# Saves/writes the output in root folder\n",
    "with tf.python_io.TFRecordWriter(\"dataset.tfrecords\") as writer:\n",
    "    for index, row in train_df.iterrows():\n",
    "        features = np.array(list(row[0:3].values) + list(row[4:].values))      \n",
    "        # All of the features in the row, minus the class label\n",
    "        label = row[3]                     \n",
    "        # just the class label\n",
    "        example = create_tf_example(features, label)  \n",
    "        # creates a TFRecord\n",
    "        writer.write(example.SerializeToString())\n",
    "        # break for example, remove otherwise to run entire set\n",
    "        \n",
    "writer.close()"
   ]
  },
  {
   "cell_type": "code",
   "execution_count": null,
   "metadata": {},
   "outputs": [],
   "source": [
    "!gist 01_data_preparation.ipynb"
   ]
  },
  {
   "cell_type": "code",
   "execution_count": null,
   "metadata": {},
   "outputs": [],
   "source": []
  }
 ],
 "metadata": {
  "kernelspec": {
   "display_name": "Python 3",
   "language": "python",
   "name": "python3"
  },
  "language_info": {
   "codemirror_mode": {
    "name": "ipython",
    "version": 3
   },
   "file_extension": ".py",
   "mimetype": "text/x-python",
   "name": "python",
   "nbconvert_exporter": "python",
   "pygments_lexer": "ipython3",
   "version": "3.7.3"
  }
 },
 "nbformat": 4,
 "nbformat_minor": 2
}
