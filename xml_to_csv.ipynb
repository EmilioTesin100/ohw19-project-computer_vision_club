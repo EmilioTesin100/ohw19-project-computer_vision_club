{
 "cells": [
  {
   "cell_type": "code",
   "execution_count": 1,
   "metadata": {},
   "outputs": [],
   "source": []
  },
  {
   "cell_type": "code",
   "execution_count": 2,
   "metadata": {},
   "outputs": [],
   "source": [
    "# From the raccoon tutorial\n",
    "#https://github.com/datitran/raccoon_dataset/blob/master/xml_to_csv.py\n",
    "\n",
    "import os\n",
    "import glob\n",
    "import pandas as pd\n",
    "import xml.etree.ElementTree as ET\n",
    "\n",
    "\n",
    "def xml_to_csv(path):\n",
    "    xml_list = []\n",
    "    for xml_file in glob.glob(path + '/*.xml'):\n",
    "        tree = ET.parse(xml_file)\n",
    "        root = tree.getroot()\n",
    "        for member in root.findall('object'):\n",
    "            value = (root.find('filename').text,\n",
    "                     int(root.find('size')[0].text),\n",
    "                     int(root.find('size')[1].text),\n",
    "                     member[0].text,\n",
    "                     int(member[4][0].text),\n",
    "                     int(member[4][1].text),\n",
    "                     int(member[4][2].text),\n",
    "                     int(member[4][3].text)\n",
    "                     )\n",
    "            xml_list.append(value)\n",
    "    column_name = ['filename', 'width', 'height', 'class', 'xmin', 'ymin', 'xmax', 'ymax']\n",
    "    xml_df = pd.DataFrame(xml_list, columns=column_name)\n",
    "    \n",
    "    return xml_df"
   ]
  },
  {
   "cell_type": "code",
   "execution_count": 13,
   "metadata": {},
   "outputs": [],
   "source": [
    "df = xml_to_csv(source)"
   ]
  },
  {
   "cell_type": "code",
   "execution_count": 34,
   "metadata": {},
   "outputs": [
    {
     "data": {
      "text/html": [
       "<div>\n",
       "<style scoped>\n",
       "    .dataframe tbody tr th:only-of-type {\n",
       "        vertical-align: middle;\n",
       "    }\n",
       "\n",
       "    .dataframe tbody tr th {\n",
       "        vertical-align: top;\n",
       "    }\n",
       "\n",
       "    .dataframe thead th {\n",
       "        text-align: right;\n",
       "    }\n",
       "</style>\n",
       "<table border=\"1\" class=\"dataframe\">\n",
       "  <thead>\n",
       "    <tr style=\"text-align: right;\">\n",
       "      <th></th>\n",
       "      <th>filename</th>\n",
       "      <th>width</th>\n",
       "      <th>height</th>\n",
       "      <th>class</th>\n",
       "      <th>xmin</th>\n",
       "      <th>ymin</th>\n",
       "      <th>xmax</th>\n",
       "      <th>ymax</th>\n",
       "    </tr>\n",
       "  </thead>\n",
       "  <tbody>\n",
       "    <tr>\n",
       "      <th>0</th>\n",
       "      <td>201503.20150602.121659332.69206.orig.jpg</td>\n",
       "      <td>1360</td>\n",
       "      <td>1024</td>\n",
       "      <td>Substrate A</td>\n",
       "      <td>89</td>\n",
       "      <td>114</td>\n",
       "      <td>102</td>\n",
       "      <td>120</td>\n",
       "    </tr>\n",
       "    <tr>\n",
       "      <th>1</th>\n",
       "      <td>201503.20150602.121659332.69206.orig.jpg</td>\n",
       "      <td>1360</td>\n",
       "      <td>1024</td>\n",
       "      <td>Small shell hash</td>\n",
       "      <td>77</td>\n",
       "      <td>141</td>\n",
       "      <td>95</td>\n",
       "      <td>152</td>\n",
       "    </tr>\n",
       "    <tr>\n",
       "      <th>2</th>\n",
       "      <td>201503.20150602.121659332.69206.orig.jpg</td>\n",
       "      <td>1360</td>\n",
       "      <td>1024</td>\n",
       "      <td>sand dollar</td>\n",
       "      <td>492</td>\n",
       "      <td>335</td>\n",
       "      <td>521</td>\n",
       "      <td>365</td>\n",
       "    </tr>\n",
       "    <tr>\n",
       "      <th>3</th>\n",
       "      <td>201503.20150602.121659332.69206.orig.jpg</td>\n",
       "      <td>1360</td>\n",
       "      <td>1024</td>\n",
       "      <td>sand dollar</td>\n",
       "      <td>679</td>\n",
       "      <td>33</td>\n",
       "      <td>708</td>\n",
       "      <td>63</td>\n",
       "    </tr>\n",
       "    <tr>\n",
       "      <th>4</th>\n",
       "      <td>201503.20150602.121659332.69206.orig.jpg</td>\n",
       "      <td>1360</td>\n",
       "      <td>1024</td>\n",
       "      <td>sand dollar</td>\n",
       "      <td>451</td>\n",
       "      <td>333</td>\n",
       "      <td>480</td>\n",
       "      <td>363</td>\n",
       "    </tr>\n",
       "  </tbody>\n",
       "</table>\n",
       "</div>"
      ],
      "text/plain": [
       "                                   filename  width  height             class  \\\n",
       "0  201503.20150602.121659332.69206.orig.jpg   1360    1024       Substrate A   \n",
       "1  201503.20150602.121659332.69206.orig.jpg   1360    1024  Small shell hash   \n",
       "2  201503.20150602.121659332.69206.orig.jpg   1360    1024       sand dollar   \n",
       "3  201503.20150602.121659332.69206.orig.jpg   1360    1024       sand dollar   \n",
       "4  201503.20150602.121659332.69206.orig.jpg   1360    1024       sand dollar   \n",
       "\n",
       "   xmin  ymin  xmax  ymax  \n",
       "0    89   114   102   120  \n",
       "1    77   141    95   152  \n",
       "2   492   335   521   365  \n",
       "3   679    33   708    63  \n",
       "4   451   333   480   363  "
      ]
     },
     "execution_count": 34,
     "metadata": {},
     "output_type": "execute_result"
    }
   ],
   "source": [
    "df.head(5)"
   ]
  },
  {
   "cell_type": "code",
   "execution_count": 15,
   "metadata": {},
   "outputs": [
    {
     "data": {
      "text/plain": [
       "Index(['filename', 'width', 'height', 'class', 'xmin', 'ymin', 'xmax', 'ymax'], dtype='object')"
      ]
     },
     "execution_count": 15,
     "metadata": {},
     "output_type": "execute_result"
    }
   ],
   "source": [
    "df.columns"
   ]
  },
  {
   "cell_type": "code",
   "execution_count": 33,
   "metadata": {},
   "outputs": [
    {
     "name": "stdout",
     "output_type": "stream",
     "text": [
      "sand dollar         3648\n",
      "Substrate A           26\n",
      "Small shell hash      11\n",
      "Hermit crab            3\n",
      "Substrate B            3\n",
      "Scallop                2\n",
      "Moon Snail             1\n",
      "Whelk                  1\n",
      "Name: class, dtype: int64\n"
     ]
    },
    {
     "data": {
      "image/png": "[encoded data removed]",
      "text/plain": [
       "<Figure size 1440x360 with 1 Axes>"
      ]
     },
     "metadata": {
      "needs_background": "light"
     },
     "output_type": "display_data"
    }
   ],
   "source": [
    "import matplotlib.pyplot as plt\n",
    "plt.figure(figsize = (20, 5))\n",
    "plt.hist(df['class'], align = 'mid');\n",
    "\n",
    "print(df['class'].value_counts())"
   ]
  },
  {
   "cell_type": "code",
   "execution_count": null,
   "metadata": {},
   "outputs": [],
   "source": []
  },
  {
   "cell_type": "code",
   "execution_count": 83,
   "metadata": {},
   "outputs": [
    {
     "name": "stdout",
     "output_type": "stream",
     "text": [
      "sample_data/201503.20150602.121602428.68866.orig.xml \n",
      " sample_data/201503.20150602.121551560.68801.orig.jpg\n"
     ]
    }
   ],
   "source": [
    "import numpy as np\n",
    "\n",
    "source = 'sample_data/'\n",
    "\n",
    "# Can edit for other purposes\n",
    "def sample_xml(source):\n",
    "    xml = []\n",
    "    image = []\n",
    "    \n",
    "    for file in os.listdir(source):\n",
    "        if('xml' in file):\n",
    "            xml.append(source + file)\n",
    "        if('jpg' in file):\n",
    "            image.append(source + file)\n",
    "    \n",
    "    index = np.random.randint(len(xml))\n",
    "    \n",
    "    return xml[index], image[index]\n",
    "    \n",
    "xml, img = sample_xml(source)\n",
    "\n",
    "print(xml,'\\n', img)"
   ]
  },
  {
   "cell_type": "code",
   "execution_count": null,
   "metadata": {},
   "outputs": [],
   "source": []
  }
 ],
 "metadata": {
  "kernelspec": {
   "display_name": "Python 3",
   "language": "python",
   "name": "python3"
  },
  "language_info": {
   "codemirror_mode": {
    "name": "ipython",
    "version": 3
   },
   "file_extension": ".py",
   "mimetype": "text/x-python",
   "name": "python",
   "nbconvert_exporter": "python",
   "pygments_lexer": "ipython3",
   "version": "3.7.3"
  }
 },
 "nbformat": 4,
 "nbformat_minor": 4
}
