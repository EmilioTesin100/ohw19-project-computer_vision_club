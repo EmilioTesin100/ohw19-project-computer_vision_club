{
 "cells": [
  {
   "cell_type": "markdown",
   "metadata": {},
   "source": [
    "### Here is Emilio's Attempt to follow the tutorial\n",
    "#### https://machinelearningmastery.com/how-to-train-an-object-detection-model-with-keras/\n",
    "#### but with Massimo's data"
   ]
  },
  {
   "cell_type": "raw",
   "metadata": {},
   "source": []
  },
  {
   "cell_type": "markdown",
   "metadata": {},
   "source": [
    "# Import your dependencies \n",
    "import xml.etree.ElementTree as ElementTree\n",
    "# load and parse the file\n",
    "filename = \"/home/jovyan/sample_data/annots/201503.20150602.115901553.62766.orig.xml\"\n",
    "tree = ElementTree.parse(filename)\n",
    "# get the root of the document\n",
    "root = tree.getroot()\n",
    "# show the root \n",
    "type(root)"
   ]
  },
  {
   "cell_type": "markdown",
   "metadata": {},
   "source": [
    "# With findall extract the values that define each bounding box\n",
    "for box in root.findall('.//bndbox'):\n",
    "    xmin = int(box.find('xmin').text)\n",
    "    ymin = int(box.find('ymin').text)\n",
    "    xmax = int(box.find('xmax').text)\n",
    "    ymax = int(box.find('ymax').text)\n",
    "    coors = [xmin, ymin, xmax, ymax]\n",
    "# print the values\n",
    "print(coors)"
   ]
  },
  {
   "cell_type": "markdown",
   "metadata": {},
   "source": [
    "# extract image dimensions\n",
    "width = int(root.find('.//size/width').text)\n",
    "height = int(root.find('.//size/height').text)\n",
    "print(width)\n",
    "print(height)"
   ]
  },
  {
   "cell_type": "markdown",
   "metadata": {},
   "source": [
    "#### Exercise above, function below"
   ]
  },
  {
   "cell_type": "code",
   "execution_count": 1,
   "metadata": {},
   "outputs": [],
   "source": [
    "# function to extract bounding boxes from an annotation file\n",
    "\n",
    "from xml.etree import ElementTree\n",
    "\n",
    "def extract_boxes(filename):\n",
    "    # load and parse the file\n",
    "    tree = ElementTree.parse(filename)\n",
    "    # get the root of the document\n",
    "    root = tree.getroot()\n",
    "    # extract each bounding box\n",
    "    boxes = list()\n",
    "    for box in root.findall('.//bndbox'):\n",
    "        xmin = int(box.find('xmin').text)\n",
    "        ymin = int(box.find('ymin').text)\n",
    "        xmax = int(box.find('xmax').text)\n",
    "        ymax = int(box.find('ymax').text)\n",
    "        coors = [xmin, ymin, xmax, ymax]\n",
    "        boxes.append(coors)\n",
    "    # extract image dimensions\n",
    "    width = int(root.find('.//size/width').text)\n",
    "    height = int(root.find('.//size/height').text)\n",
    "    return boxes, width, height"
   ]
  },
  {
   "cell_type": "code",
   "execution_count": 2,
   "metadata": {},
   "outputs": [
    {
     "name": "stdout",
     "output_type": "stream",
     "text": [
      "[[93, 39, 110, 58]] 1360 1024\n"
     ]
    }
   ],
   "source": [
    "# load and parse the file\n",
    "filename = \"/home/jovyan/sample_data/annots/201503.20150602.115901553.62766.orig.xml\"\n",
    "# extract details form annotation file\n",
    "boxes, w, h = extract_boxes(filename)\n",
    "# summarize extracted details\n",
    "print(boxes, w, h)"
   ]
  },
  {
   "cell_type": "markdown",
   "metadata": {},
   "source": [
    "#### Develop sand dollar training object"
   ]
  },
  {
   "cell_type": "code",
   "execution_count": 3,
   "metadata": {},
   "outputs": [
    {
     "ename": "IndentationError",
     "evalue": "expected an indented block (<ipython-input-3-4af6eaed7226>, line 13)",
     "output_type": "error",
     "traceback": [
      "\u001b[0;36m  File \u001b[0;32m\"<ipython-input-3-4af6eaed7226>\"\u001b[0;36m, line \u001b[0;32m13\u001b[0m\n\u001b[0;31m    def load_mask(self, image_id):\u001b[0m\n\u001b[0m      ^\u001b[0m\n\u001b[0;31mIndentationError\u001b[0m\u001b[0;31m:\u001b[0m expected an indented block\n"
     ]
    }
   ],
   "source": [
    "## This means that a new class must be defined that extends the mrcnn.utils.Dataset class \n",
    "## and defines a function to load the dataset, with any name you like such as load_dataset(), \n",
    "## and override two functions, one for loading a mask called load_mask() \n",
    "## and one for loading an image reference (path or URL) called image_reference().\n",
    "\n",
    "# class that defines and loads the kangaroo dataset\n",
    "class KangarooDataset(Dataset):\n",
    "    # load the dataset definitions\n",
    "    def load_dataset(self, dataset_dir, is_train=True):\n",
    "        # ...\n",
    "\n",
    "    # load the masks for an image\n",
    "    def load_mask(self, image_id):\n",
    "        # ...\n",
    "\n",
    "    # load an image reference\n",
    "    def image_reference(self, image_id):\n",
    "        # ..."
   ]
  },
  {
   "cell_type": "code",
   "execution_count": 6,
   "metadata": {},
   "outputs": [
    {
     "ename": "NameError",
     "evalue": "name 'sand_dollar_dataset' is not defined",
     "output_type": "error",
     "traceback": [
      "\u001b[0;31m---------------------------------------------------------------------------\u001b[0m",
      "\u001b[0;31mNameError\u001b[0m                                 Traceback (most recent call last)",
      "\u001b[0;32m<ipython-input-6-29fab01ed324>\u001b[0m in \u001b[0;36m<module>\u001b[0;34m\u001b[0m\n\u001b[1;32m      1\u001b[0m \u001b[0;31m# prepare the dataset\u001b[0m\u001b[0;34m\u001b[0m\u001b[0;34m\u001b[0m\u001b[0;34m\u001b[0m\u001b[0m\n\u001b[0;32m----> 2\u001b[0;31m \u001b[0mtrain_set\u001b[0m \u001b[0;34m=\u001b[0m \u001b[0msand_dollar_dataset\u001b[0m\u001b[0;34m(\u001b[0m\u001b[0;34m)\u001b[0m\u001b[0;34m\u001b[0m\u001b[0;34m\u001b[0m\u001b[0m\n\u001b[0m\u001b[1;32m      3\u001b[0m \u001b[0mtrain_set\u001b[0m\u001b[0;34m.\u001b[0m\u001b[0mload_dataset\u001b[0m\u001b[0;34m(\u001b[0m\u001b[0;34m'/home/jovyan/sample_data/images/'\u001b[0m\u001b[0;34m)\u001b[0m\u001b[0;34m\u001b[0m\u001b[0;34m\u001b[0m\u001b[0m\n\u001b[1;32m      4\u001b[0m \u001b[0mtrain_set\u001b[0m\u001b[0;34m.\u001b[0m\u001b[0mprepare\u001b[0m\u001b[0;34m(\u001b[0m\u001b[0;34m)\u001b[0m\u001b[0;34m\u001b[0m\u001b[0;34m\u001b[0m\u001b[0m\n",
      "\u001b[0;31mNameError\u001b[0m: name 'sand_dollar_dataset' is not defined"
     ]
    }
   ],
   "source": [
    "# prepare the dataset\n",
    "train_set = sand_dollar_dataset()\n",
    "train_set.load_dataset(...)\n",
    "train_set.prepare()"
   ]
  },
  {
   "cell_type": "markdown",
   "metadata": {},
   "source": [
    "##### Classes are defined by calling the built-in add_class() function and specifying the ‘source‘ (the name of the dataset), the ‘class_id‘ or integer for the class (e.g. 1 for the first lass as 0 is reserved for the background class), and the ‘class_name‘ (e.g. ‘kangaroo‘)."
   ]
  },
  {
   "cell_type": "code",
   "execution_count": 5,
   "metadata": {},
   "outputs": [
    {
     "ename": "NameError",
     "evalue": "name 'self' is not defined",
     "output_type": "error",
     "traceback": [
      "\u001b[0;31m---------------------------------------------------------------------------\u001b[0m",
      "\u001b[0;31mNameError\u001b[0m                                 Traceback (most recent call last)",
      "\u001b[0;32m<ipython-input-5-9d4cb8db0ad8>\u001b[0m in \u001b[0;36m<module>\u001b[0;34m\u001b[0m\n\u001b[1;32m      1\u001b[0m \u001b[0;31m# define one class\u001b[0m\u001b[0;34m\u001b[0m\u001b[0;34m\u001b[0m\u001b[0;34m\u001b[0m\u001b[0m\n\u001b[0;32m----> 2\u001b[0;31m \u001b[0mself\u001b[0m\u001b[0;34m.\u001b[0m\u001b[0madd_class\u001b[0m\u001b[0;34m(\u001b[0m\u001b[0;34m\"dataset\"\u001b[0m\u001b[0;34m,\u001b[0m \u001b[0;36m1\u001b[0m\u001b[0;34m,\u001b[0m \u001b[0;34m\"sand_dollar\"\u001b[0m\u001b[0;34m)\u001b[0m\u001b[0;34m\u001b[0m\u001b[0;34m\u001b[0m\u001b[0m\n\u001b[0m",
      "\u001b[0;31mNameError\u001b[0m: name 'self' is not defined"
     ]
    }
   ],
   "source": [
    "# define one class\n",
    "self.add_class(\"dataset\", 1, \"sand_dollar\")\n"
   ]
  },
  {
   "cell_type": "markdown",
   "metadata": {},
   "source": [
    "##### Objects are defined by a call to the built-in add_image() function and specifying the ‘source‘ (the name of the dataset), a unique ‘image_id‘ (e.g. the filename without the file extension like ‘00001‘), and the path for where the image can be loaded (e.g. ‘kangaroo/images/00001.jpg‘)."
   ]
  },
  {
   "cell_type": "code",
   "execution_count": null,
   "metadata": {},
   "outputs": [],
   "source": [
    "# add to dataset\n",
    "self.add_image('dataset', image_id='00001', \n",
    "               path='/home/jovyan/sample_data/images/201503.20150602.115901553.62766.orig.jpg', \n",
    "               annotation='/home/jovyan/sample_data/annots/201503.20150602.115901553.62766.orig.xml')"
   ]
  },
  {
   "cell_type": "code",
   "execution_count": 7,
   "metadata": {},
   "outputs": [],
   "source": [
    "# load the dataset definitions\n",
    "def load_dataset(self, dataset_dir):\n",
    "    # define one class\n",
    "    self.add_class(\"dataset\", 1, \"sand_dollar\")\n",
    "    # define data locations\n",
    "    dataset_dir = '/home/jovyan/sample_data'\n",
    "    images_dir = dataset_dir + '/images/'\n",
    "    annotations_dir = dataset_dir + '/annots/'\n",
    "    # find all images\n",
    "    for filename in listdir(images_dir):\n",
    "        # extract image id\n",
    "        image_id = filename[:-4]\n",
    "        # skip bad images\n",
    "        if image_id in ['00090']:\n",
    "            continue\n",
    "        img_path = images_dir + filename\n",
    "        ann_path = annotations_dir + image_id + '.xml'\n",
    "        # add to dataset\n",
    "        self.add_image('dataset', image_id=image_id, path=img_path, annotation=ann_path)"
   ]
  },
  {
   "cell_type": "markdown",
   "metadata": {},
   "source": [
    "##### First, we must load the annotation file for the image_id. This involves first retrieving the ‘image info‘ dict for the image_id, then retrieving the annotations path that we stored for the image via our prior call to add_image(). We can then use the path in our call to extract_boxes() developed in the previous section to get the list of bounding boxes and the dimensions of the image."
   ]
  },
  {
   "cell_type": "code",
   "execution_count": null,
   "metadata": {},
   "outputs": [],
   "source": []
  },
  {
   "cell_type": "code",
   "execution_count": 9,
   "metadata": {
    "collapsed": true,
    "jupyter": {
     "outputs_hidden": true
    }
   },
   "outputs": [
    {
     "ename": "NameError",
     "evalue": "name 'self' is not defined",
     "output_type": "error",
     "traceback": [
      "\u001b[0;31m---------------------------------------------------------------------------\u001b[0m",
      "\u001b[0;31mNameError\u001b[0m                                 Traceback (most recent call last)",
      "\u001b[0;32m<ipython-input-9-bd15c9d4f918>\u001b[0m in \u001b[0;36m<module>\u001b[0;34m\u001b[0m\n\u001b[1;32m      1\u001b[0m \u001b[0;31m# get details of image\u001b[0m\u001b[0;34m\u001b[0m\u001b[0;34m\u001b[0m\u001b[0;34m\u001b[0m\u001b[0m\n\u001b[0;32m----> 2\u001b[0;31m \u001b[0minfo\u001b[0m \u001b[0;34m=\u001b[0m \u001b[0mself\u001b[0m\u001b[0;34m.\u001b[0m\u001b[0mimage_info\u001b[0m\u001b[0;34m[\u001b[0m\u001b[0mimage_id\u001b[0m\u001b[0;34m]\u001b[0m\u001b[0;34m\u001b[0m\u001b[0;34m\u001b[0m\u001b[0m\n\u001b[0m\u001b[1;32m      3\u001b[0m \u001b[0;31m# define box file location\u001b[0m\u001b[0;34m\u001b[0m\u001b[0;34m\u001b[0m\u001b[0;34m\u001b[0m\u001b[0m\n\u001b[1;32m      4\u001b[0m \u001b[0mpath\u001b[0m \u001b[0;34m=\u001b[0m \u001b[0minfo\u001b[0m\u001b[0;34m[\u001b[0m\u001b[0;34m'annotation'\u001b[0m\u001b[0;34m]\u001b[0m\u001b[0;34m\u001b[0m\u001b[0;34m\u001b[0m\u001b[0m\n\u001b[1;32m      5\u001b[0m \u001b[0;31m# load XML\u001b[0m\u001b[0;34m\u001b[0m\u001b[0;34m\u001b[0m\u001b[0;34m\u001b[0m\u001b[0m\n",
      "\u001b[0;31mNameError\u001b[0m: name 'self' is not defined"
     ]
    }
   ],
   "source": [
    "# get details of image\n",
    "info = self.image_info[image_id]\n",
    "# define box file location\n",
    "path = info['annotation']\n",
    "# load XML\n",
    "boxes, w, h = self.extract_boxes(path)"
   ]
  },
  {
   "cell_type": "markdown",
   "metadata": {},
   "source": [
    "##### A mask is a two-dimensional array with the same dimensions as the photograph with all zero values where the object isn’t and all one values where the object is in the photograph. \n",
    "##### We can achieve this by creating a NumPy array with all zero values for the known size of the image and one channel for each bounding box."
   ]
  },
  {
   "cell_type": "code",
   "execution_count": null,
   "metadata": {},
   "outputs": [],
   "source": [
    "# create one array for all masks, each on a different channel\n",
    "masks = zeros([h, w, len(boxes)], dtype='uint8')"
   ]
  },
  {
   "cell_type": "code",
   "execution_count": null,
   "metadata": {},
   "outputs": [],
   "source": [
    "## These can be used directly to define row and column ranges in the array that can then be marked as 1.\n",
    "# create masks\n",
    "for i in range(len(boxes)):\n",
    "    box = boxes[i]\n",
    "    row_s, row_e = box[1], box[3]\n",
    "    col_s, col_e = box[0], box[2]\n",
    "    masks[row_s:row_e, col_s:col_e, i] = 1"
   ]
  },
  {
   "cell_type": "code",
   "execution_count": null,
   "metadata": {},
   "outputs": [],
   "source": [
    "#All objects have the same class in this dataset.\n",
    "#We can retrieve the class index via the ‘class_names‘ dictionary, then add it to a list to be returned alongside the masks.\n",
    "self.class_names.index('sand_dollar')"
   ]
  },
  {
   "cell_type": "code",
   "execution_count": 8,
   "metadata": {},
   "outputs": [],
   "source": [
    "## LOAD the complete load_mask() function is listed below.\n",
    "# load the masks for an image\n",
    "def load_mask(self, image_id):\n",
    "    # get details of image\n",
    "    info = self.image_info[image_id]\n",
    "    # define box file location\n",
    "    path = info['annotation']\n",
    "    # load XML\n",
    "    boxes, w, h = self.extract_boxes(path)\n",
    "    # create one array for all masks, each on a different channel\n",
    "    masks = zeros([h, w, len(boxes)], dtype='uint8')\n",
    "    # create masks\n",
    "    class_ids = list()\n",
    "    for i in range(len(boxes)):\n",
    "        box = boxes[i]\n",
    "        row_s, row_e = box[1], box[3]\n",
    "        col_s, col_e = box[0], box[2]\n",
    "        masks[row_s:row_e, col_s:col_e, i] = 1\n",
    "        class_ids.append(self.class_names.index('kangaroo'))\n",
    "    return masks, asarray(class_ids, dtype='int32')"
   ]
  },
  {
   "cell_type": "markdown",
   "metadata": {},
   "source": [
    "##### A mask is a two-dimensional array with the same dimensions as the photograph with all zero values where the object isn’t and all one values where the object is in the photograph. \n",
    "##### We can achieve this by creating a NumPy array with all zero values for the known size of the image and one channel for each bounding box."
   ]
  },
  {
   "cell_type": "code",
   "execution_count": null,
   "metadata": {},
   "outputs": [],
   "source": [
    "\n",
    "#This function is responsible for returning the path\n",
    "#or URL for a given ‘image_id‘, which we know is just the ‘path‘ property on the ‘image info‘ dict\n",
    "# load an image reference\n",
    "def image_reference(self, image_id):\n",
    "    info = self.image_info[image_id]\n",
    "    return info['path']"
   ]
  },
  {
   "cell_type": "markdown",
   "metadata": {},
   "source": [
    "# FIX THIS"
   ]
  },
  {
   "cell_type": "code",
   "execution_count": null,
   "metadata": {},
   "outputs": [],
   "source": [
    "#\n",
    "#split into train and test set\n",
    "from os import listdir\n",
    "from xml.etree import ElementTree\n",
    "from numpy import zeros\n",
    "from numpy import asarray\n",
    "from mrcnn.utils import Dataset\n",
    " \n",
    "# class that defines and loads the kangaroo dataset\n",
    "class KangarooDataset(Dataset):\n",
    "    # load the dataset definitions\n",
    "    def load_dataset(self, dataset_dir, is_train=True):\n",
    "        # define one class\n",
    "        self.add_class(\"dataset\", 1, \"sand_dollar\")\n",
    "        # define data locations\n",
    "        images_dir = dataset_dir + '/images/'\n",
    "        annotations_dir = dataset_dir + '/annots/'\n",
    "        # find all images\n",
    "        for filename in listdir(images_dir):\n",
    "            # extract image id\n",
    "            image_id = filename[:-4]\n",
    "            # skip bad images\n",
    "            if image_id in ['00090']:\n",
    "                continue\n",
    "            # skip all images after 150 if we are building the train set\n",
    "            if is_train and int(image_id) >= 150:\n",
    "                continue\n",
    "            # skip all images before 150 if we are building the test/val set\n",
    "            if not is_train and int(image_id) < 150:\n",
    "                continue\n",
    "            img_path = images_dir + filename\n",
    "            ann_path = annotations_dir + image_id + '.xml'\n",
    "            # add to dataset\n",
    "            self.add_image('dataset', image_id=image_id, path=img_path, annotation=ann_path)\n",
    " \n",
    "    # extract bounding boxes from an annotation file\n",
    "    def extract_boxes(self, filename):\n",
    "        # load and parse the file\n",
    "        tree = ElementTree.parse(filename)\n",
    "        # get the root of the document\n",
    "        root = tree.getroot()\n",
    "        # extract each bounding box\n",
    "        boxes = list()\n",
    "        for box in root.findall('.//bndbox'):\n",
    "            xmin = int(box.find('xmin').text)\n",
    "            ymin = int(box.find('ymin').text)\n",
    "            xmax = int(box.find('xmax').text)\n",
    "            ymax = int(box.find('ymax').text)\n",
    "            coors = [xmin, ymin, xmax, ymax]\n",
    "            boxes.append(coors)\n",
    "        # extract image dimensions\n",
    "        width = int(root.find('.//size/width').text)\n",
    "        height = int(root.find('.//size/height').text)\n",
    "        return boxes, width, height\n",
    " \n",
    "    # load the masks for an image\n",
    "    def load_mask(self, image_id):\n",
    "        # get details of image\n",
    "        info = self.image_info[image_id]\n",
    "        # define box file location\n",
    "        path = info['annotation']\n",
    "        # load XML\n",
    "        boxes, w, h = self.extract_boxes(path)\n",
    "        # create one array for all masks, each on a different channel\n",
    "        masks = zeros([h, w, len(boxes)], dtype='uint8')\n",
    "        # create masks\n",
    "        class_ids = list()\n",
    "        for i in range(len(boxes)):\n",
    "            box = boxes[i]\n",
    "            row_s, row_e = box[1], box[3]\n",
    "            col_s, col_e = box[0], box[2]\n",
    "            masks[row_s:row_e, col_s:col_e, i] = 1\n",
    "            class_ids.append(self.class_names.index('sand_dollar'))\n",
    "        return masks, asarray(class_ids, dtype='int32')\n",
    " \n",
    "    # load an image reference\n",
    "    def image_reference(self, image_id):\n",
    "        info = self.image_info[image_id]\n",
    "        return info['path']\n",
    " \n",
    "# train set\n",
    "train_set = KangarooDataset()\n",
    "train_set.load_dataset('sand_dollar', is_train=True)\n",
    "train_set.prepare()\n",
    "print('Train: %d' % len(train_set.image_ids))\n",
    " \n",
    "# test/val set\n",
    "test_set = KangarooDataset()\n",
    "test_set.load_dataset('kangaroo', is_train=False)\n",
    "test_set.prepare()\n",
    "print('Test: %d' % len(test_set.image_ids))"
   ]
  }
 ],
 "metadata": {
  "kernelspec": {
   "display_name": "Python 3",
   "language": "python",
   "name": "python3"
  },
  "language_info": {
   "codemirror_mode": {
    "name": "ipython",
    "version": 3
   },
   "file_extension": ".py",
   "mimetype": "text/x-python",
   "name": "python",
   "nbconvert_exporter": "python",
   "pygments_lexer": "ipython3",
   "version": "3.7.3"
  }
 },
 "nbformat": 4,
 "nbformat_minor": 4
}
